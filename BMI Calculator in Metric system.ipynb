{
 "cells": [
  {
   "cell_type": "markdown",
   "id": "0a9de4ce-d277-4478-bf3e-123617260c17",
   "metadata": {},
   "source": [
    "# BMI Calculator in Metric unit"
   ]
  },
  {
   "cell_type": "markdown",
   "id": "0baebbfc-15c3-48fb-9864-70bd4ea9e5f0",
   "metadata": {},
   "source": [
    "https://mercer-health.com/services/weight-management-center/bmi-calculator#:~:text=Body%20Mass%20Index%2C%20or%20BMI,inches%20x%20height%20in%20inches"
   ]
  },
  {
   "cell_type": "code",
   "execution_count": 4,
   "id": "a397dee5-23c1-425d-a1c7-1549602ba72a",
   "metadata": {},
   "outputs": [],
   "source": [
    "#BMI = (weight in pounds x 703) / (height in inches x height in inches) (unit = kg/m*2)"
   ]
  },
  {
   "cell_type": "code",
   "execution_count": 27,
   "id": "b14180bc-be68-4c07-83ee-658937f5c658",
   "metadata": {},
   "outputs": [
    {
     "name": "stdin",
     "output_type": "stream",
     "text": [
      "Enter your name: Emmanuella Akuirene\n",
      "Enter your weight in kg: 72\n",
      "Enter your height in meters: 1.75\n"
     ]
    },
    {
     "name": "stdout",
     "output_type": "stream",
     "text": [
      "23.51\n",
      "Emmanuella Akuirene, you are normal weight.\n"
     ]
    }
   ],
   "source": [
    "Name = input(\"Enter your name:\")\n",
    "Weight = int(input(\"Enter your weight in kg:\"))\n",
    "Height = float(input(\"Enter your height in meters:\"))\n",
    "BMI = (Weight)/(Height**2)\n",
    "rounded_BMI = round(BMI, 2)\n",
    "print(rounded_BMI)\n",
    "if BMI > 0:\n",
    "    if(BMI < 18.5):\n",
    "        print(Name +\", you are underweight.\")\n",
    "    elif(BMI <= 24.9):\n",
    "         print(Name +\", you are normal weight.\")\n",
    "    elif(BMI <= 29.9):\n",
    "         print(Name +\", you are overweight.\")\n",
    "    elif(BMI <= 34.9):\n",
    "         print(Name +\", you are obese.\")\n",
    "    elif(BMI <= 39.9):\n",
    "         print(Name +\", you are severally obese.\")\n",
    "    else:\n",
    "        print(Name +\", you are morbidly obese.\")\n",
    "else:\n",
    "        print(\"Enter valid input\")"
   ]
  },
  {
   "cell_type": "code",
   "execution_count": null,
   "id": "2f018bb6-cacf-4e99-bc62-ed28da34cd18",
   "metadata": {},
   "outputs": [],
   "source": []
  },
  {
   "cell_type": "code",
   "execution_count": null,
   "id": "ed218233-ceff-4b8b-8822-a0208c79d8a8",
   "metadata": {},
   "outputs": [],
   "source": []
  }
 ],
 "metadata": {
  "kernelspec": {
   "display_name": "Python [conda env:base] *",
   "language": "python",
   "name": "conda-base-py"
  },
  "language_info": {
   "codemirror_mode": {
    "name": "ipython",
    "version": 3
   },
   "file_extension": ".py",
   "mimetype": "text/x-python",
   "name": "python",
   "nbconvert_exporter": "python",
   "pygments_lexer": "ipython3",
   "version": "3.12.7"
  }
 },
 "nbformat": 4,
 "nbformat_minor": 5
}
