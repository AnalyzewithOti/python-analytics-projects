{
 "cells": [
  {
   "cell_type": "markdown",
   "id": "0caee407-f7ce-455b-8f55-86194e04a176",
   "metadata": {},
   "source": [
    "# BMI Calculator in Imperial unit"
   ]
  },
  {
   "cell_type": "markdown",
   "id": "4c3f8f50-d49f-4226-a6f0-e0c882672c60",
   "metadata": {},
   "source": [
    "https://mercer-health.com/services/weight-management-center/bmi-calculator#:~:text=Body%20Mass%20Index%2C%20or%20BMI,inches%20x%20height%20in%20inches"
   ]
  },
  {
   "cell_type": "code",
   "execution_count": 6,
   "id": "e69e5b18-33a7-46d5-9690-e24aabd47ec5",
   "metadata": {},
   "outputs": [],
   "source": [
    "#BMI = (weight in pounds x 703) / (height in inches x height in inches) (unit = lb/in*2)"
   ]
  },
  {
   "cell_type": "code",
   "execution_count": 62,
   "id": "ddf4ac4c-7a5a-4d23-b973-5128985060ed",
   "metadata": {},
   "outputs": [
    {
     "name": "stdin",
     "output_type": "stream",
     "text": [
      "Enter your name: Emmanuella Akuirene\n",
      "Enter your weight in pounds: 159\n",
      "Enter your height in inches: 69\n"
     ]
    },
    {
     "name": "stdout",
     "output_type": "stream",
     "text": [
      "Emmanuella Akuirene, you are normal weight.\n"
     ]
    }
   ],
   "source": [
    "Name = input(\"Enter your name:\")\n",
    "Weight = int(input(\"Enter your weight in pounds:\"))\n",
    "Height = int(input(\"Enter your height in inches:\"))\n",
    "BMI = (Weight * 703)/(Height**2)\n",
    "if BMI > 0:\n",
    "    if(BMI < 18.5):\n",
    "        print(Name +\", you are underweight.\")\n",
    "    elif(BMI <= 24.9):\n",
    "         print(Name +\", you are normal weight.\")\n",
    "    elif(BMI <= 29.9):\n",
    "         print(Name +\", you are overweight.\")\n",
    "    elif(BMI <= 34.9):\n",
    "         print(Name +\", you are obese.\")\n",
    "    elif(BMI <= 39.9):\n",
    "         print(Name +\", you are severally obese.\")\n",
    "    else:\n",
    "        print(Name +\", you are morbidly obese.\")\n",
    "else:\n",
    "        print(\"Enter valid input\")"
   ]
  },
  {
   "cell_type": "code",
   "execution_count": null,
   "id": "7b092d1e-7c72-401e-8965-9a8a60bb8cab",
   "metadata": {},
   "outputs": [],
   "source": []
  },
  {
   "cell_type": "code",
   "execution_count": null,
   "id": "3773be33-1b9e-4851-aa07-f3d2714b688e",
   "metadata": {},
   "outputs": [],
   "source": []
  },
  {
   "cell_type": "code",
   "execution_count": null,
   "id": "e327cfb2-3d62-461e-a9d3-f0feab4c6f82",
   "metadata": {},
   "outputs": [],
   "source": []
  },
  {
   "cell_type": "code",
   "execution_count": null,
   "id": "f5a952d8-6990-430a-9d28-e95c68d357dd",
   "metadata": {},
   "outputs": [],
   "source": []
  },
  {
   "cell_type": "code",
   "execution_count": null,
   "id": "c49410a8-f45a-4d77-b9d3-df6bc44e6544",
   "metadata": {},
   "outputs": [],
   "source": []
  },
  {
   "cell_type": "code",
   "execution_count": null,
   "id": "7a8ddbf9-d2f2-4db9-9b19-7d93b4c8fe15",
   "metadata": {},
   "outputs": [],
   "source": []
  },
  {
   "cell_type": "code",
   "execution_count": null,
   "id": "ef505b21-a0dc-4ec3-a8e4-6d0ac27aa298",
   "metadata": {},
   "outputs": [],
   "source": []
  },
  {
   "cell_type": "code",
   "execution_count": null,
   "id": "4ac85146-20ae-4498-95d6-4cb34039ab00",
   "metadata": {},
   "outputs": [],
   "source": []
  },
  {
   "cell_type": "code",
   "execution_count": null,
   "id": "e61ba6f5-3139-4155-aae2-efa05b432ea9",
   "metadata": {},
   "outputs": [],
   "source": []
  },
  {
   "cell_type": "code",
   "execution_count": null,
   "id": "c71e2348-4ee6-4832-9b1e-e443b5920baa",
   "metadata": {},
   "outputs": [],
   "source": []
  },
  {
   "cell_type": "code",
   "execution_count": null,
   "id": "ffe446c4-0a37-49a5-949e-f37006919aa5",
   "metadata": {},
   "outputs": [],
   "source": []
  },
  {
   "cell_type": "code",
   "execution_count": null,
   "id": "67d987e4-9d83-441f-be8e-85c83bc1ef2b",
   "metadata": {},
   "outputs": [],
   "source": []
  },
  {
   "cell_type": "code",
   "execution_count": null,
   "id": "bc5886aa-af77-4f6b-9993-96dec972274c",
   "metadata": {},
   "outputs": [],
   "source": []
  },
  {
   "cell_type": "code",
   "execution_count": null,
   "id": "e09a653c-a4ae-41d3-845a-43228b37ccf6",
   "metadata": {},
   "outputs": [],
   "source": []
  },
  {
   "cell_type": "code",
   "execution_count": null,
   "id": "f2305359-d8d6-4da0-989a-b599f47f51fb",
   "metadata": {},
   "outputs": [],
   "source": []
  },
  {
   "cell_type": "code",
   "execution_count": null,
   "id": "604b1af6-efc3-4112-aafc-2e7d53962d8f",
   "metadata": {},
   "outputs": [],
   "source": []
  },
  {
   "cell_type": "code",
   "execution_count": null,
   "id": "7e07e6e6-f809-4e7e-be40-0179d5065e0f",
   "metadata": {},
   "outputs": [],
   "source": []
  },
  {
   "cell_type": "code",
   "execution_count": null,
   "id": "eebdb4ec-06f2-4da5-8385-6baaf87fb869",
   "metadata": {},
   "outputs": [],
   "source": []
  },
  {
   "cell_type": "code",
   "execution_count": null,
   "id": "3cfc809a-bfe9-408c-9a57-160dcb926bc5",
   "metadata": {},
   "outputs": [],
   "source": []
  },
  {
   "cell_type": "code",
   "execution_count": null,
   "id": "668ebd9d-cc9a-4671-8a8e-3637d6c723ac",
   "metadata": {},
   "outputs": [],
   "source": []
  },
  {
   "cell_type": "code",
   "execution_count": null,
   "id": "93559304-e81e-4b37-a45d-9f70c884e9f3",
   "metadata": {},
   "outputs": [],
   "source": []
  },
  {
   "cell_type": "code",
   "execution_count": null,
   "id": "b4705334-7b8f-46b9-99ce-70900a5e4a84",
   "metadata": {},
   "outputs": [],
   "source": []
  },
  {
   "cell_type": "code",
   "execution_count": null,
   "id": "ed3e1c8f-3fd0-499e-a688-be52b0f22e6d",
   "metadata": {},
   "outputs": [],
   "source": []
  },
  {
   "cell_type": "code",
   "execution_count": null,
   "id": "45b220ed-4fe1-44d3-b600-283c1c98f8f0",
   "metadata": {},
   "outputs": [],
   "source": []
  },
  {
   "cell_type": "code",
   "execution_count": null,
   "id": "8531f3cd-57d6-47ba-8388-d4575361c858",
   "metadata": {},
   "outputs": [],
   "source": []
  },
  {
   "cell_type": "code",
   "execution_count": null,
   "id": "b30b3d46-43ea-4d18-9184-207daf09bb48",
   "metadata": {},
   "outputs": [],
   "source": []
  },
  {
   "cell_type": "code",
   "execution_count": null,
   "id": "7278e589-e9d9-49da-b8a6-cafc67638b38",
   "metadata": {},
   "outputs": [],
   "source": []
  },
  {
   "cell_type": "code",
   "execution_count": null,
   "id": "5ab3c365-8456-4091-b6df-072e45514ab5",
   "metadata": {},
   "outputs": [],
   "source": []
  },
  {
   "cell_type": "code",
   "execution_count": null,
   "id": "3e07409e-7366-4553-a8c2-d36b244d05f9",
   "metadata": {},
   "outputs": [],
   "source": []
  },
  {
   "cell_type": "code",
   "execution_count": null,
   "id": "9f4953bf-4462-4bc3-a7bb-4038a919a3d0",
   "metadata": {},
   "outputs": [],
   "source": []
  },
  {
   "cell_type": "code",
   "execution_count": null,
   "id": "15976d7a-33bf-455d-b95e-ba8cd86e11f6",
   "metadata": {},
   "outputs": [],
   "source": []
  },
  {
   "cell_type": "code",
   "execution_count": null,
   "id": "756b5207-d2a1-44f4-a81f-59d6dd3fc9a8",
   "metadata": {},
   "outputs": [],
   "source": []
  },
  {
   "cell_type": "code",
   "execution_count": null,
   "id": "6151ada7-6e76-4f6f-9067-6ed3e7fda6b9",
   "metadata": {},
   "outputs": [],
   "source": []
  },
  {
   "cell_type": "code",
   "execution_count": null,
   "id": "5a194a7b-df64-4def-9d64-bdec2de7388d",
   "metadata": {},
   "outputs": [],
   "source": []
  },
  {
   "cell_type": "code",
   "execution_count": null,
   "id": "243a0707-0d58-41f8-bbd9-cbb8d49f4808",
   "metadata": {},
   "outputs": [],
   "source": []
  },
  {
   "cell_type": "code",
   "execution_count": null,
   "id": "3b8addec-3a53-46bf-8f37-7315a89a89b7",
   "metadata": {},
   "outputs": [],
   "source": []
  }
 ],
 "metadata": {
  "kernelspec": {
   "display_name": "Python [conda env:base] *",
   "language": "python",
   "name": "conda-base-py"
  },
  "language_info": {
   "codemirror_mode": {
    "name": "ipython",
    "version": 3
   },
   "file_extension": ".py",
   "mimetype": "text/x-python",
   "name": "python",
   "nbconvert_exporter": "python",
   "pygments_lexer": "ipython3",
   "version": "3.12.7"
  }
 },
 "nbformat": 4,
 "nbformat_minor": 5
}
