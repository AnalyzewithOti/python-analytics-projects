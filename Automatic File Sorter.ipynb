{
 "cells": [
  {
   "cell_type": "markdown",
   "id": "e708d46a-88a5-49fa-9226-db93ace50eb2",
   "metadata": {},
   "source": [
    "# Automatic File Sorter in File Explorer"
   ]
  },
  {
   "cell_type": "code",
   "execution_count": 84,
   "id": "3adfc7af-727c-4f76-8083-f0252d03c597",
   "metadata": {},
   "outputs": [],
   "source": [
    "import os, shutil\n",
    "path = r\"C:/Users/MICROSOFT/Documents/Data Analytics/Python/Path/\"\n",
    "file_name = os.listdir(path)\n",
    "folder_names = ['doc files', 'pdf files', 'sql files', 'drawio files', 'excel files', 'powerbi files', 'image files', 'email files']\n",
    "\n",
    "for loop in range(0,8):\n",
    "    if not os.path.exists(path + folder_names[loop]):\n",
    "         os.makedirs((path + folder_names[loop]))\n",
    "\n",
    "for file in file_name:\n",
    "    if \".docx\" in file and not os.path.exists(path + \"doc files/\" + file):\n",
    "        shutil.move(path + file, path +\"doc files/\" + file)\n",
    "    elif \".pdf\" in file and not os.path.exists(path + \"pdf files/\" + file):\n",
    "        shutil.move(path + file, path +\"pdf files/\" + file) \n",
    "    elif \".sql\" in file and not os.path.exists(path + \"sql files/\" + file):\n",
    "        shutil.move(path + file, path +\"sql files/\" + file) \n",
    "    elif \".drawio\" in file and not os.path.exists(path + \"drawio files/\" + file):\n",
    "        shutil.move(path + file, path +\"drawio files/\" + file)\n",
    "    elif \".xlsx\" in file and not os.path.exists(path + \"excel files/\" + file):\n",
    "        shutil.move(path + file, path +\"excel files/\" + file)\n",
    "    elif \".pbix\" in file and not os.path.exists(path + \"powerbi files/\" + file):\n",
    "        shutil.move(path + file, path +\"powerbi files/\" + file)\n",
    "    elif \".jpg\" in file and not os.path.exists(path + \"image files/\" + file):\n",
    "        shutil.move(path + file, path +\"image files/\" + file)\n",
    "    elif \".eml\" in file and not os.path.exists(path + \"email files/\" + file):\n",
    "        shutil.move(path + file, path +\"email files/\" + file)"
   ]
  },
  {
   "cell_type": "code",
   "execution_count": null,
   "id": "39cb3ed5-6e54-4095-989b-70dfdeff0c0b",
   "metadata": {},
   "outputs": [],
   "source": []
  },
  {
   "cell_type": "code",
   "execution_count": null,
   "id": "e842493f-3ae4-4441-9af7-7a2324f4f50c",
   "metadata": {},
   "outputs": [],
   "source": []
  },
  {
   "cell_type": "code",
   "execution_count": null,
   "id": "742c2295-ffcd-47ce-b3cf-2a5e4a27ae11",
   "metadata": {},
   "outputs": [],
   "source": []
  },
  {
   "cell_type": "code",
   "execution_count": null,
   "id": "cfce2285-3736-4ad3-b86e-c1ba9d1dc38c",
   "metadata": {},
   "outputs": [],
   "source": []
  },
  {
   "cell_type": "code",
   "execution_count": null,
   "id": "15516322-801f-4d8a-a750-4d04e5e67694",
   "metadata": {},
   "outputs": [],
   "source": []
  },
  {
   "cell_type": "code",
   "execution_count": null,
   "id": "4f273ed4-6e81-41ad-9e3f-e239e1a66f47",
   "metadata": {},
   "outputs": [],
   "source": []
  },
  {
   "cell_type": "code",
   "execution_count": null,
   "id": "3765c2e0-b11f-4629-8690-00f43340935e",
   "metadata": {},
   "outputs": [],
   "source": []
  },
  {
   "cell_type": "code",
   "execution_count": null,
   "id": "5b3636c2-c1a6-493d-85ee-c9ca7b4c45dc",
   "metadata": {},
   "outputs": [],
   "source": []
  },
  {
   "cell_type": "code",
   "execution_count": null,
   "id": "9dee59b5-926a-4607-aa8d-00d22359fe4d",
   "metadata": {},
   "outputs": [],
   "source": []
  },
  {
   "cell_type": "code",
   "execution_count": null,
   "id": "1edae012-db09-4f82-8089-3cd4fa0e18cf",
   "metadata": {},
   "outputs": [],
   "source": []
  },
  {
   "cell_type": "code",
   "execution_count": null,
   "id": "bb6e6e60-abc0-4931-9643-191784d2d81c",
   "metadata": {},
   "outputs": [],
   "source": []
  },
  {
   "cell_type": "code",
   "execution_count": null,
   "id": "0d4f43f7-c7ca-4a3b-b186-124bc4ef03c0",
   "metadata": {},
   "outputs": [],
   "source": []
  },
  {
   "cell_type": "code",
   "execution_count": null,
   "id": "d812a8c6-3708-47f0-bae0-b044e1f50e45",
   "metadata": {},
   "outputs": [],
   "source": []
  },
  {
   "cell_type": "code",
   "execution_count": null,
   "id": "4cf27a31-4be5-4cb5-87b9-b13acf6b1a5b",
   "metadata": {},
   "outputs": [],
   "source": []
  },
  {
   "cell_type": "code",
   "execution_count": null,
   "id": "0dfb2d96-d465-456d-b578-90cc1ad5d331",
   "metadata": {},
   "outputs": [],
   "source": []
  },
  {
   "cell_type": "code",
   "execution_count": null,
   "id": "74f18721-2075-46aa-8f3d-a726dd7a9633",
   "metadata": {},
   "outputs": [],
   "source": []
  }
 ],
 "metadata": {
  "kernelspec": {
   "display_name": "Python [conda env:base] *",
   "language": "python",
   "name": "conda-base-py"
  },
  "language_info": {
   "codemirror_mode": {
    "name": "ipython",
    "version": 3
   },
   "file_extension": ".py",
   "mimetype": "text/x-python",
   "name": "python",
   "nbconvert_exporter": "python",
   "pygments_lexer": "ipython3",
   "version": "3.12.7"
  }
 },
 "nbformat": 4,
 "nbformat_minor": 5
}
